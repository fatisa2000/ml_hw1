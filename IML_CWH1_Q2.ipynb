{
  "cells": [
    {
      "cell_type": "markdown",
      "source": [
        "<h1 align=\"center\">An Introduction to Machine Learning - 25737</h1>\n",
        "<h4 align=\"center\">Dr. Sajjad Amini</h4>\n",
        "<h4 align=\"center\">Sharif University of Technology, Spring 2023</h4>\n",
        "\n",
        "# Problem Set 02\n",
        "\n",
        "Welcome to your second assignment. This exercise gives you a brief introduction to Python. \n"
      ],
      "metadata": {
        "id": "9CFNN5Ms51un"
      }
    },
    {
      "cell_type": "markdown",
      "source": [
        "STUDENT NAME: fateme salehin\n",
        "\n",
        "STUDENT ID:97101961"
      ],
      "metadata": {
        "id": "otVWavun6BLM"
      }
    },
    {
      "cell_type": "markdown",
      "source": [
        "## Import \n",
        ">Put all of your imports for this file in the below cell."
      ],
      "metadata": {
        "id": "ZmfUgXgE51uo"
      }
    },
    {
      "cell_type": "code",
      "execution_count": 5,
      "source": [
        "### START CODE HERE ###\n",
        "import numpy as np\n",
        "import pandas as pd\n",
        "import csv\n",
        "import os\n",
        "import matplotlib.pyplot as plt\n",
        "### END CODE HERE ###"
      ],
      "outputs": [],
      "metadata": {
        "id": "PKyVIvPF51uo"
      }
    },
    {
      "cell_type": "markdown",
      "source": [
        "# Question 1"
      ],
      "metadata": {
        "id": "TK-ZIy9Z51up"
      }
    },
    {
      "cell_type": "markdown",
      "source": [
        "## Array creation\n",
        ">Create the followings to numpy array:\n",
        "* A: a 3\\*3 array like this:\n",
        "$$\n",
        "A = \\left(\\begin{array}{cc} \n",
        "10 & 20 & 30\\\\\n",
        "5 & 10 & 15\\\\\n",
        "1 & 5 & 8\n",
        "\\end{array}\\right)\n",
        "$$ \n",
        "* B: a 3\\*3\\*4 that filled with the numbers start from 15 and have steps of 5 to the end. The array should be filled first along the first dimension then the second dimension and at last the third dimension. like this:\n",
        "$$\n",
        "B[:, :, 0] = \\left(\\begin{array}{cc} \n",
        "15 & 30 & 45\\\\\n",
        "20 & 35 & 50\\\\\n",
        "25 & 40 & 55\n",
        "\\end{array}\\right)\n",
        "$$ "
      ],
      "metadata": {
        "id": "xATpgtcD51up"
      }
    },
    {
      "cell_type": "code",
      "execution_count": null,
      "source": [
        "### START CODE HERE ###\n",
        "a=np.array([[10,20,30],[5,10,15],[1,5,8]])\n",
        "print(a)\n",
        "arr2=np.zeros((36,1))\n",
        "for i in range(36):\n",
        "  arr2[i]=i*5+15\n",
        "print(arr2)\n",
        "arr3=np.reshape(arr2,(4,3,3))\n",
        "b=np.transpose(arr3,(0,2,1))\n",
        "print(b)\n",
        "\n",
        "### END CODE HERE ###"
      ],
      "outputs": [
        {
          "output_type": "stream",
          "name": "stdout",
          "text": [
            "[[10 20 30]\n",
            " [ 5 10 15]\n",
            " [ 1  5  8]]\n",
            "[[ 15.]\n",
            " [ 20.]\n",
            " [ 25.]\n",
            " [ 30.]\n",
            " [ 35.]\n",
            " [ 40.]\n",
            " [ 45.]\n",
            " [ 50.]\n",
            " [ 55.]\n",
            " [ 60.]\n",
            " [ 65.]\n",
            " [ 70.]\n",
            " [ 75.]\n",
            " [ 80.]\n",
            " [ 85.]\n",
            " [ 90.]\n",
            " [ 95.]\n",
            " [100.]\n",
            " [105.]\n",
            " [110.]\n",
            " [115.]\n",
            " [120.]\n",
            " [125.]\n",
            " [130.]\n",
            " [135.]\n",
            " [140.]\n",
            " [145.]\n",
            " [150.]\n",
            " [155.]\n",
            " [160.]\n",
            " [165.]\n",
            " [170.]\n",
            " [175.]\n",
            " [180.]\n",
            " [185.]\n",
            " [190.]]\n",
            "[[[ 15.  30.  45.]\n",
            "  [ 20.  35.  50.]\n",
            "  [ 25.  40.  55.]]\n",
            "\n",
            " [[ 60.  75.  90.]\n",
            "  [ 65.  80.  95.]\n",
            "  [ 70.  85. 100.]]\n",
            "\n",
            " [[105. 120. 135.]\n",
            "  [110. 125. 140.]\n",
            "  [115. 130. 145.]]\n",
            "\n",
            " [[150. 165. 180.]\n",
            "  [155. 170. 185.]\n",
            "  [160. 175. 190.]]]\n"
          ]
        }
      ],
      "metadata": {
        "id": "TjIs628Y51up",
        "colab": {
          "base_uri": "https://localhost:8080/"
        },
        "outputId": "4ddf85fb-0a03-4923-edf6-8b3d472c6d63"
      }
    },
    {
      "cell_type": "markdown",
      "source": [
        "## Replacement\n",
        ">Replace the last slice of array B (B[:, :, 3]) with values of A. Then print the result."
      ],
      "metadata": {
        "id": "FnkUQTNY51up"
      }
    },
    {
      "cell_type": "code",
      "execution_count": null,
      "source": [
        "### START CODE HERE ###\n",
        "b1=np.copy(b)\n",
        "b1[3,:,:]=a\n",
        "print(b1)\n",
        "### END CODE HERE ###"
      ],
      "outputs": [
        {
          "output_type": "stream",
          "name": "stdout",
          "text": [
            "[[[ 15.  30.  45.]\n",
            "  [ 20.  35.  50.]\n",
            "  [ 25.  40.  55.]]\n",
            "\n",
            " [[ 60.  75.  90.]\n",
            "  [ 65.  80.  95.]\n",
            "  [ 70.  85. 100.]]\n",
            "\n",
            " [[105. 120. 135.]\n",
            "  [110. 125. 140.]\n",
            "  [115. 130. 145.]]\n",
            "\n",
            " [[ 10.  20.  30.]\n",
            "  [  5.  10.  15.]\n",
            "  [  1.   5.   8.]]]\n"
          ]
        }
      ],
      "metadata": {
        "id": "P8VC57_o51uq",
        "colab": {
          "base_uri": "https://localhost:8080/"
        },
        "outputId": "cad08750-18c1-437f-ad86-a9c973eae4f4"
      }
    },
    {
      "cell_type": "markdown",
      "source": [
        "## Axis Swap \n",
        ">Swap the first(B[:, :, 0]) and last(B[:, :, 3]) slice of the array B **only with one line of code**. Then print the result."
      ],
      "metadata": {
        "id": "nZs4P5AZ51uq"
      }
    },
    {
      "cell_type": "code",
      "execution_count": null,
      "source": [
        "### START CODE HERE ###\n",
        "print(b)\n",
        "b[0,:,:],b[3,:,:]=b[3,:,:],b[0,:,:].copy()\n",
        "print(b)\n",
        "### END CODE HERE ###"
      ],
      "outputs": [
        {
          "output_type": "stream",
          "name": "stdout",
          "text": [
            "[[[ 15.  30.  45.]\n",
            "  [ 20.  35.  50.]\n",
            "  [ 25.  40.  55.]]\n",
            "\n",
            " [[ 60.  75.  90.]\n",
            "  [ 65.  80.  95.]\n",
            "  [ 70.  85. 100.]]\n",
            "\n",
            " [[105. 120. 135.]\n",
            "  [110. 125. 140.]\n",
            "  [115. 130. 145.]]\n",
            "\n",
            " [[150. 165. 180.]\n",
            "  [155. 170. 185.]\n",
            "  [160. 175. 190.]]]\n",
            "[[[150. 165. 180.]\n",
            "  [155. 170. 185.]\n",
            "  [160. 175. 190.]]\n",
            "\n",
            " [[ 60.  75.  90.]\n",
            "  [ 65.  80.  95.]\n",
            "  [ 70.  85. 100.]]\n",
            "\n",
            " [[105. 120. 135.]\n",
            "  [110. 125. 140.]\n",
            "  [115. 130. 145.]]\n",
            "\n",
            " [[ 15.  30.  45.]\n",
            "  [ 20.  35.  50.]\n",
            "  [ 25.  40.  55.]]]\n"
          ]
        }
      ],
      "metadata": {
        "id": "WmS33bBl51uq",
        "colab": {
          "base_uri": "https://localhost:8080/"
        },
        "outputId": "131a187a-3d6e-4231-bf8e-00572b7e9019"
      }
    },
    {
      "cell_type": "markdown",
      "source": [
        "## Transposing \n",
        ">Transpose the array B elements in each slice. Then print the result."
      ],
      "metadata": {
        "id": "220LTscL51uq"
      }
    },
    {
      "cell_type": "code",
      "execution_count": null,
      "source": [
        "### START CODE HERE ###\n",
        "print(b)\n",
        "for i in range(4):\n",
        "  b[i,:,:]=np.transpose(b[i,:,:])\n",
        "print(b)\n",
        "\n",
        "\n",
        "### END CODE HERE ###"
      ],
      "outputs": [
        {
          "output_type": "stream",
          "name": "stdout",
          "text": [
            "[[[150. 165. 180.]\n",
            "  [155. 170. 185.]\n",
            "  [160. 175. 190.]]\n",
            "\n",
            " [[ 60.  75.  90.]\n",
            "  [ 65.  80.  95.]\n",
            "  [ 70.  85. 100.]]\n",
            "\n",
            " [[105. 120. 135.]\n",
            "  [110. 125. 140.]\n",
            "  [115. 130. 145.]]\n",
            "\n",
            " [[ 15.  30.  45.]\n",
            "  [ 20.  35.  50.]\n",
            "  [ 25.  40.  55.]]]\n",
            "[[[150. 155. 160.]\n",
            "  [165. 170. 175.]\n",
            "  [180. 185. 190.]]\n",
            "\n",
            " [[ 60.  65.  70.]\n",
            "  [ 75.  80.  85.]\n",
            "  [ 90.  95. 100.]]\n",
            "\n",
            " [[105. 110. 115.]\n",
            "  [120. 125. 130.]\n",
            "  [135. 140. 145.]]\n",
            "\n",
            " [[ 15.  20.  25.]\n",
            "  [ 30.  35.  40.]\n",
            "  [ 45.  50.  55.]]]\n"
          ]
        }
      ],
      "metadata": {
        "id": "aNMAlnaC51uq",
        "colab": {
          "base_uri": "https://localhost:8080/"
        },
        "outputId": "57d828a0-0eee-4d48-ff56-fdd7e9897a3d"
      }
    },
    {
      "cell_type": "markdown",
      "source": [
        "## Matrix Multiplication\n",
        ">Calculate the matrix multiplication of all slices of the array B. \n",
        "(B[:, :, 0] \\* B[:, :, 1] \\* B[:, :, 2] \\* B[:, :, 3]). Then print the result.\n",
        "\n",
        ">**Note**: the result should be a 3\\*3 array. "
      ],
      "metadata": {
        "id": "xYFuQ6_H51uq"
      }
    },
    {
      "cell_type": "code",
      "execution_count": null,
      "source": [
        "### START CODE HERE ###\n",
        "c1=np.matmul(b[0,:,:],b[1,:,:])\n",
        "c2=np.matmul(c1,b[2,:,:])\n",
        "c3=np.matmul(c2,b[3,:,:])\n",
        "print(c3)\n",
        "\n",
        "### END CODE HERE ###"
      ],
      "outputs": [
        {
          "output_type": "stream",
          "name": "stdout",
          "text": [
            "[[1.29124125e+09 1.41588000e+09 1.54051875e+09]\n",
            " [1.50207750e+09 1.64706750e+09 1.79205750e+09]\n",
            " [1.71291375e+09 1.87825500e+09 2.04359625e+09]]\n"
          ]
        }
      ],
      "metadata": {
        "id": "HfQRENtP51uq",
        "colab": {
          "base_uri": "https://localhost:8080/"
        },
        "outputId": "b8d72b7c-00ce-424f-a409-784f32e5e56b"
      }
    },
    {
      "cell_type": "markdown",
      "source": [
        "## Determinant\n",
        ">Calculate the determinant of the array A and print it."
      ],
      "metadata": {
        "id": "T-aKILXl51uq"
      }
    },
    {
      "cell_type": "code",
      "execution_count": null,
      "source": [
        "### START CODE HERE ###\n",
        "d=np.linalg.det(a)\n",
        "print(d)\n",
        "### END CODE HERE ###"
      ],
      "outputs": [
        {
          "output_type": "stream",
          "name": "stdout",
          "text": [
            "0.0\n"
          ]
        }
      ],
      "metadata": {
        "id": "IuIyFxIb51ur",
        "colab": {
          "base_uri": "https://localhost:8080/"
        },
        "outputId": "5e745815-c80c-4496-ea03-109ab1ade115"
      }
    },
    {
      "cell_type": "markdown",
      "source": [
        "# Question 2"
      ],
      "metadata": {
        "id": "dUxqZ--i51ur"
      }
    },
    {
      "cell_type": "markdown",
      "source": [
        "## Loading dataset\n",
        ">Load the IMDB-Movie-Data.csv file into a pandas dataframe and show its first 5 rows. Each row of this dataframe corresponds to one film."
      ],
      "metadata": {
        "id": "tVorf1Zj51ur"
      }
    },
    {
      "cell_type": "code",
      "execution_count": 7,
      "source": [
        "### START CODE HERE ###\n",
        "f=pd.read_csv(r\"C:\\Users\\Iran_soft\\Desktop\\mk\\uni_march\\IMDB-Movie-Data.csv\")\n",
        "print(f.head())\n",
        "### END CODE HERE ###"
      ],
      "outputs": [
        {
          "output_type": "error",
          "ename": "FileNotFoundError",
          "evalue": "ignored",
          "traceback": [
            "\u001b[0;31m---------------------------------------------------------------------------\u001b[0m",
            "\u001b[0;31mFileNotFoundError\u001b[0m                         Traceback (most recent call last)",
            "\u001b[0;32m<ipython-input-7-d26e493f8f75>\u001b[0m in \u001b[0;36m<module>\u001b[0;34m\u001b[0m\n\u001b[1;32m      1\u001b[0m \u001b[0;31m### START CODE HERE ###\u001b[0m\u001b[0;34m\u001b[0m\u001b[0;34m\u001b[0m\u001b[0m\n\u001b[0;32m----> 2\u001b[0;31m \u001b[0mf\u001b[0m\u001b[0;34m=\u001b[0m\u001b[0mpd\u001b[0m\u001b[0;34m.\u001b[0m\u001b[0mread_csv\u001b[0m\u001b[0;34m(\u001b[0m\u001b[0;34mr\"C:\\Users\\Iran_soft\\Desktop\\mk\\uni_march\\IMDB-Movie-Data.csv\"\u001b[0m\u001b[0;34m)\u001b[0m\u001b[0;34m\u001b[0m\u001b[0;34m\u001b[0m\u001b[0m\n\u001b[0m\u001b[1;32m      3\u001b[0m \u001b[0mprint\u001b[0m\u001b[0;34m(\u001b[0m\u001b[0mf\u001b[0m\u001b[0;34m.\u001b[0m\u001b[0mhead\u001b[0m\u001b[0;34m(\u001b[0m\u001b[0;34m)\u001b[0m\u001b[0;34m)\u001b[0m\u001b[0;34m\u001b[0m\u001b[0;34m\u001b[0m\u001b[0m\n\u001b[1;32m      4\u001b[0m \u001b[0;31m### END CODE HERE ###\u001b[0m\u001b[0;34m\u001b[0m\u001b[0;34m\u001b[0m\u001b[0m\n",
            "\u001b[0;32m/usr/local/lib/python3.9/dist-packages/pandas/util/_decorators.py\u001b[0m in \u001b[0;36mwrapper\u001b[0;34m(*args, **kwargs)\u001b[0m\n\u001b[1;32m    309\u001b[0m                     \u001b[0mstacklevel\u001b[0m\u001b[0;34m=\u001b[0m\u001b[0mstacklevel\u001b[0m\u001b[0;34m,\u001b[0m\u001b[0;34m\u001b[0m\u001b[0;34m\u001b[0m\u001b[0m\n\u001b[1;32m    310\u001b[0m                 )\n\u001b[0;32m--> 311\u001b[0;31m             \u001b[0;32mreturn\u001b[0m \u001b[0mfunc\u001b[0m\u001b[0;34m(\u001b[0m\u001b[0;34m*\u001b[0m\u001b[0margs\u001b[0m\u001b[0;34m,\u001b[0m \u001b[0;34m**\u001b[0m\u001b[0mkwargs\u001b[0m\u001b[0;34m)\u001b[0m\u001b[0;34m\u001b[0m\u001b[0;34m\u001b[0m\u001b[0m\n\u001b[0m\u001b[1;32m    312\u001b[0m \u001b[0;34m\u001b[0m\u001b[0m\n\u001b[1;32m    313\u001b[0m         \u001b[0;32mreturn\u001b[0m \u001b[0mwrapper\u001b[0m\u001b[0;34m\u001b[0m\u001b[0;34m\u001b[0m\u001b[0m\n",
            "\u001b[0;32m/usr/local/lib/python3.9/dist-packages/pandas/io/parsers/readers.py\u001b[0m in \u001b[0;36mread_csv\u001b[0;34m(filepath_or_buffer, sep, delimiter, header, names, index_col, usecols, squeeze, prefix, mangle_dupe_cols, dtype, engine, converters, true_values, false_values, skipinitialspace, skiprows, skipfooter, nrows, na_values, keep_default_na, na_filter, verbose, skip_blank_lines, parse_dates, infer_datetime_format, keep_date_col, date_parser, dayfirst, cache_dates, iterator, chunksize, compression, thousands, decimal, lineterminator, quotechar, quoting, doublequote, escapechar, comment, encoding, encoding_errors, dialect, error_bad_lines, warn_bad_lines, on_bad_lines, delim_whitespace, low_memory, memory_map, float_precision, storage_options)\u001b[0m\n\u001b[1;32m    676\u001b[0m     \u001b[0mkwds\u001b[0m\u001b[0;34m.\u001b[0m\u001b[0mupdate\u001b[0m\u001b[0;34m(\u001b[0m\u001b[0mkwds_defaults\u001b[0m\u001b[0;34m)\u001b[0m\u001b[0;34m\u001b[0m\u001b[0;34m\u001b[0m\u001b[0m\n\u001b[1;32m    677\u001b[0m \u001b[0;34m\u001b[0m\u001b[0m\n\u001b[0;32m--> 678\u001b[0;31m     \u001b[0;32mreturn\u001b[0m \u001b[0m_read\u001b[0m\u001b[0;34m(\u001b[0m\u001b[0mfilepath_or_buffer\u001b[0m\u001b[0;34m,\u001b[0m \u001b[0mkwds\u001b[0m\u001b[0;34m)\u001b[0m\u001b[0;34m\u001b[0m\u001b[0;34m\u001b[0m\u001b[0m\n\u001b[0m\u001b[1;32m    679\u001b[0m \u001b[0;34m\u001b[0m\u001b[0m\n\u001b[1;32m    680\u001b[0m \u001b[0;34m\u001b[0m\u001b[0m\n",
            "\u001b[0;32m/usr/local/lib/python3.9/dist-packages/pandas/io/parsers/readers.py\u001b[0m in \u001b[0;36m_read\u001b[0;34m(filepath_or_buffer, kwds)\u001b[0m\n\u001b[1;32m    573\u001b[0m \u001b[0;34m\u001b[0m\u001b[0m\n\u001b[1;32m    574\u001b[0m     \u001b[0;31m# Create the parser.\u001b[0m\u001b[0;34m\u001b[0m\u001b[0;34m\u001b[0m\u001b[0m\n\u001b[0;32m--> 575\u001b[0;31m     \u001b[0mparser\u001b[0m \u001b[0;34m=\u001b[0m \u001b[0mTextFileReader\u001b[0m\u001b[0;34m(\u001b[0m\u001b[0mfilepath_or_buffer\u001b[0m\u001b[0;34m,\u001b[0m \u001b[0;34m**\u001b[0m\u001b[0mkwds\u001b[0m\u001b[0;34m)\u001b[0m\u001b[0;34m\u001b[0m\u001b[0;34m\u001b[0m\u001b[0m\n\u001b[0m\u001b[1;32m    576\u001b[0m \u001b[0;34m\u001b[0m\u001b[0m\n\u001b[1;32m    577\u001b[0m     \u001b[0;32mif\u001b[0m \u001b[0mchunksize\u001b[0m \u001b[0;32mor\u001b[0m \u001b[0miterator\u001b[0m\u001b[0;34m:\u001b[0m\u001b[0;34m\u001b[0m\u001b[0;34m\u001b[0m\u001b[0m\n",
            "\u001b[0;32m/usr/local/lib/python3.9/dist-packages/pandas/io/parsers/readers.py\u001b[0m in \u001b[0;36m__init__\u001b[0;34m(self, f, engine, **kwds)\u001b[0m\n\u001b[1;32m    930\u001b[0m \u001b[0;34m\u001b[0m\u001b[0m\n\u001b[1;32m    931\u001b[0m         \u001b[0mself\u001b[0m\u001b[0;34m.\u001b[0m\u001b[0mhandles\u001b[0m\u001b[0;34m:\u001b[0m \u001b[0mIOHandles\u001b[0m \u001b[0;34m|\u001b[0m \u001b[0;32mNone\u001b[0m \u001b[0;34m=\u001b[0m \u001b[0;32mNone\u001b[0m\u001b[0;34m\u001b[0m\u001b[0;34m\u001b[0m\u001b[0m\n\u001b[0;32m--> 932\u001b[0;31m         \u001b[0mself\u001b[0m\u001b[0;34m.\u001b[0m\u001b[0m_engine\u001b[0m \u001b[0;34m=\u001b[0m \u001b[0mself\u001b[0m\u001b[0;34m.\u001b[0m\u001b[0m_make_engine\u001b[0m\u001b[0;34m(\u001b[0m\u001b[0mf\u001b[0m\u001b[0;34m,\u001b[0m \u001b[0mself\u001b[0m\u001b[0;34m.\u001b[0m\u001b[0mengine\u001b[0m\u001b[0;34m)\u001b[0m\u001b[0;34m\u001b[0m\u001b[0;34m\u001b[0m\u001b[0m\n\u001b[0m\u001b[1;32m    933\u001b[0m \u001b[0;34m\u001b[0m\u001b[0m\n\u001b[1;32m    934\u001b[0m     \u001b[0;32mdef\u001b[0m \u001b[0mclose\u001b[0m\u001b[0;34m(\u001b[0m\u001b[0mself\u001b[0m\u001b[0;34m)\u001b[0m\u001b[0;34m:\u001b[0m\u001b[0;34m\u001b[0m\u001b[0;34m\u001b[0m\u001b[0m\n",
            "\u001b[0;32m/usr/local/lib/python3.9/dist-packages/pandas/io/parsers/readers.py\u001b[0m in \u001b[0;36m_make_engine\u001b[0;34m(self, f, engine)\u001b[0m\n\u001b[1;32m   1214\u001b[0m             \u001b[0;31m# \"Union[str, PathLike[str], ReadCsvBuffer[bytes], ReadCsvBuffer[str]]\"\u001b[0m\u001b[0;34m\u001b[0m\u001b[0;34m\u001b[0m\u001b[0m\n\u001b[1;32m   1215\u001b[0m             \u001b[0;31m# , \"str\", \"bool\", \"Any\", \"Any\", \"Any\", \"Any\", \"Any\"\u001b[0m\u001b[0;34m\u001b[0m\u001b[0;34m\u001b[0m\u001b[0m\n\u001b[0;32m-> 1216\u001b[0;31m             self.handles = get_handle(  # type: ignore[call-overload]\n\u001b[0m\u001b[1;32m   1217\u001b[0m                 \u001b[0mf\u001b[0m\u001b[0;34m,\u001b[0m\u001b[0;34m\u001b[0m\u001b[0;34m\u001b[0m\u001b[0m\n\u001b[1;32m   1218\u001b[0m                 \u001b[0mmode\u001b[0m\u001b[0;34m,\u001b[0m\u001b[0;34m\u001b[0m\u001b[0;34m\u001b[0m\u001b[0m\n",
            "\u001b[0;32m/usr/local/lib/python3.9/dist-packages/pandas/io/common.py\u001b[0m in \u001b[0;36mget_handle\u001b[0;34m(path_or_buf, mode, encoding, compression, memory_map, is_text, errors, storage_options)\u001b[0m\n\u001b[1;32m    784\u001b[0m         \u001b[0;32mif\u001b[0m \u001b[0mioargs\u001b[0m\u001b[0;34m.\u001b[0m\u001b[0mencoding\u001b[0m \u001b[0;32mand\u001b[0m \u001b[0;34m\"b\"\u001b[0m \u001b[0;32mnot\u001b[0m \u001b[0;32min\u001b[0m \u001b[0mioargs\u001b[0m\u001b[0;34m.\u001b[0m\u001b[0mmode\u001b[0m\u001b[0;34m:\u001b[0m\u001b[0;34m\u001b[0m\u001b[0;34m\u001b[0m\u001b[0m\n\u001b[1;32m    785\u001b[0m             \u001b[0;31m# Encoding\u001b[0m\u001b[0;34m\u001b[0m\u001b[0;34m\u001b[0m\u001b[0m\n\u001b[0;32m--> 786\u001b[0;31m             handle = open(\n\u001b[0m\u001b[1;32m    787\u001b[0m                 \u001b[0mhandle\u001b[0m\u001b[0;34m,\u001b[0m\u001b[0;34m\u001b[0m\u001b[0;34m\u001b[0m\u001b[0m\n\u001b[1;32m    788\u001b[0m                 \u001b[0mioargs\u001b[0m\u001b[0;34m.\u001b[0m\u001b[0mmode\u001b[0m\u001b[0;34m,\u001b[0m\u001b[0;34m\u001b[0m\u001b[0;34m\u001b[0m\u001b[0m\n",
            "\u001b[0;31mFileNotFoundError\u001b[0m: [Errno 2] No such file or directory: 'C:\\\\Users\\\\Iran_soft\\\\Desktop\\\\mk\\\\uni_march\\\\IMDB-Movie-Data.csv'"
          ]
        }
      ],
      "metadata": {
        "id": "dIsa36yi51ur",
        "colab": {
          "base_uri": "https://localhost:8080/",
          "height": 376
        },
        "outputId": "b6292ee1-8a95-4d84-e030-19197bb17302"
      }
    },
    {
      "cell_type": "markdown",
      "source": [
        "## Actors/Actresses Activity\n",
        ">For each Actors/Actresses caculate the number of movies in the dataframe, then sort the actors/actresses first by their number of movies in descending order and then by their name in ascending order. "
      ],
      "metadata": {
        "id": "pgDvllsV51ur"
      }
    },
    {
      "cell_type": "code",
      "execution_count": null,
      "source": [
        "### START CODE HERE ###\n",
        "\n",
        "### END CODE HERE ###"
      ],
      "outputs": [],
      "metadata": {
        "id": "GfB9w9UO51ur"
      }
    },
    {
      "cell_type": "markdown",
      "source": [
        "## Score Histogram\n",
        ">Draw the histogram of metascores and ratings. "
      ],
      "metadata": {
        "id": "U8qu6f7d51ur"
      }
    },
    {
      "cell_type": "code",
      "execution_count": null,
      "source": [
        "### START CODE HERE ###\n",
        "\n",
        "### END CODE HERE ###"
      ],
      "outputs": [],
      "metadata": {
        "id": "JUf-Jl6T51ur"
      }
    },
    {
      "cell_type": "markdown",
      "source": [
        "## Correlations\n",
        ">Calculate the correlation between rating, votes and metascore of the movies.\n",
        "Is there any meaningful relation between these features? "
      ],
      "metadata": {
        "id": "_fD8olon51ur"
      }
    },
    {
      "cell_type": "code",
      "execution_count": null,
      "source": [
        "### START CODE HERE ###\n",
        "\n",
        "### END CODE HERE ###"
      ],
      "outputs": [],
      "metadata": {
        "id": "4Llb2din51ur"
      }
    },
    {
      "cell_type": "markdown",
      "source": [
        "# Question 3"
      ],
      "metadata": {
        "id": "kLHzx8KW51ur"
      }
    },
    {
      "cell_type": "markdown",
      "source": [
        "## File\n",
        "> Craet a .txt file and name it \"Name_actors\". You must write the name of all actors/actresses in the IMDB-Movie-Data.csv file. Don't write a name multiple time and write each name in a new line."
      ],
      "metadata": {
        "id": "xQMEJJVI51ur"
      }
    },
    {
      "cell_type": "code",
      "execution_count": null,
      "source": [
        "### START CODE HERE ###\n",
        "\n",
        "### END CODE HERE ###"
      ],
      "outputs": [],
      "metadata": {
        "id": "li8flG_251us"
      }
    },
    {
      "cell_type": "markdown",
      "source": [
        "# Question 4"
      ],
      "metadata": {
        "id": "oXpoTAa-51us"
      }
    },
    {
      "cell_type": "markdown",
      "source": [
        "## Plot\n",
        ">You must plot the number of movies in each year according to the IMDB-Movie-Data.csv file. X-axis is year and y-axis show the number of movies in each year.\n",
        "> set the x_label, y_label and title for your plot."
      ],
      "metadata": {
        "id": "-l8ephAz51us"
      }
    },
    {
      "cell_type": "code",
      "execution_count": null,
      "source": [
        "### START CODE HERE ###\n",
        "\n",
        "### END CODE HERE ###"
      ],
      "outputs": [],
      "metadata": {
        "id": "pVgfjlk_51us"
      }
    },
    {
      "cell_type": "markdown",
      "source": [
        "## Plot\n",
        ">You must plot the cos(x) curve. plot 20 cycle of the curve. the frequency of first half of curve is 50 Hz and frequency of second lalf is 200 Hz. \n",
        "> set the x_label, y_label and title for your plot."
      ],
      "metadata": {
        "id": "-xaIS92c51us"
      }
    },
    {
      "cell_type": "code",
      "execution_count": 6,
      "source": [
        "### START CODE HERE ###\n",
        "t=0.2\n",
        "t1=0.25\n",
        "f=50\n",
        "f1=200\n",
        "ts=0.001\n",
        "ts1=0.0005\n",
        "tr=np.arange(0,t,ts)\n",
        "tr1=np.arange(t,t1,ts1)\n",
        "y1=np.cos(2*np.pi*f*tr)\n",
        "y2=np.cos(2*np.pi*f1*tr1)\n",
        "plt.plot(tr,y1)\n",
        "plt.plot(tr1,y2)\n",
        "plt.title(\"cos(t) curve\")\n",
        "plt.xlabel('t')\n",
        "plt.ylabel('cos(t)')\n",
        "### END CODE HERE ###"
      ],
      "outputs": [
        {
          "output_type": "execute_result",
          "data": {
            "text/plain": [
              "Text(0, 0.5, 'cos(t)')"
            ]
          },
          "metadata": {},
          "execution_count": 6
        },
        {
          "output_type": "display_data",
          "data": {
            "text/plain": [
              "<Figure size 432x288 with 1 Axes>"
            ],
            "image/png": "[encoded data removed]"
          },
          "metadata": {
            "needs_background": "light"
          }
        }
      ],
      "metadata": {
        "id": "5VhGTsTw51us",
        "colab": {
          "base_uri": "https://localhost:8080/",
          "height": 313
        },
        "outputId": "c29734a0-f9c3-4576-ff52-6ba07dcb4689"
      }
    }
  ],
  "metadata": {
    "orig_nbformat": 4,
    "language_info": {
      "name": "python",
      "version": "3.8.5",
      "mimetype": "text/x-python",
      "codemirror_mode": {
        "name": "ipython",
        "version": 3
      },
      "pygments_lexer": "ipython3",
      "nbconvert_exporter": "python",
      "file_extension": ".py"
    },
    "kernelspec": {
      "name": "python3",
      "display_name": "Python 3.8.5 64-bit"
    },
    "interpreter": {
      "hash": "d8283cc4fef7fdfd79fce9ff4c59fb46bb636ce565bf5e011ed8cd98646ea4d5"
    },
    "colab": {
      "provenance": []
    }
  },
  "nbformat": 4,
  "nbformat_minor": 0
}